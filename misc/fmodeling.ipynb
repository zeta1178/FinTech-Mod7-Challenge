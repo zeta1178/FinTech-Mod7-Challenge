{
 "cells": [
  {
   "cell_type": "code",
   "execution_count": 2,
   "id": "ddbb4835-bf80-4ccd-8120-8b1eec0e50ba",
   "metadata": {},
   "outputs": [
    {
     "name": "stderr",
     "output_type": "stream",
     "text": [
      "/var/folders/wc/dzcyrwqx2r18c1qvj6l_bc540000gn/T/ipykernel_11154/3558805948.py:25: DeprecationWarning: cafile, capath and cadefault are deprecated, use a custom context instead.\n",
      "  response = urlopen(url, cafile=certifi.where())\n"
     ]
    },
    {
     "name": "stdout",
     "output_type": "stream",
     "text": [
      "[{'symbol': 'MSFT', 'date': '2021-06-30', 'period': 'FY', 'currentRatio': 2.0799936835218875, 'quickRatio': 1.8991957769832049, 'cashRatio': 0.13251068725537746, 'daysOfSalesOutstanding': 82.6096746942078, 'daysOfInventoryOutstanding': 18.420508500536073, 'operatingCycle': 101.03018319474387, 'daysOfPayablesOutstanding': 105.95985219788636, 'cashConversionCycle': -4.929669003142493, 'grossProfitMargin': 0.689258007710247, 'operatingProfitMargin': 0.415948788729713, 'pretaxProfitMargin': 0.4230046166293846, 'netProfitMargin': 0.36451739564989766, 'effectiveTaxRate': 0.13826615285083402, 'returnOnAssets': 0.18356757015869782, 'returnOnEquity': 0.4315223821731414, 'returnOnCapitalEmployed': 0.28522939597424957, 'netIncomePerEBT': 0.861733847149166, 'ebtPerEbit': 1.0169632129984554, 'ebitPerRevenue': 0.415948788729713, 'debtRatio': 0.5746047534446445, 'debtEquityRatio': 1.3507549933797223, 'longTermDebtToCapitalization': 0.2960122167077361, 'totalDebtToCapitalization': 0.32310273975868004, 'interestCoverage': 29.80221653878943, 'cashFlowToDebtRatio': 1.132275912947252, 'companyEquityMultiplier': 2.3507549933797223, 'receivablesTurnover': 4.418368688063507, 'payablesTurnover': 3.4447009167051377, 'inventoryTurnover': 19.814871016691956, 'fixedAssetTurnover': 2.374023699560753, 'assetTurnover': 0.5035906992351227, 'operatingCashFlowPerShare': 10.16827878627269, 'freeCashFlowPerShare': 7.435802305551875, 'cashPerShare': 17.269643566980257, 'payoutRatio': 0.269638164874084, 'operatingCashFlowSalesRatio': 0.4565465708438437, 'freeCashFlowOperatingCashFlowRatio': 0.7312744331508991, 'cashFlowCoverageRatios': 1.132275912947252, 'shortTermCoverageRatios': 9.506937561942518, 'capitalExpenditureCoverageRatio': -3.7212685481524583, 'dividendPaidAndCapexCoverageRatio': -18.71250914411119, 'dividendPayoutRatio': 0.269638164874084, 'priceBookValueRatio': 15.143644518719187, 'priceToBookRatio': 15.143644518719187, 'priceToSalesRatio': 12.792202881371068, 'priceEarningsRatio': 35.093531979629844, 'priceToFreeCashFlowsRatio': 38.315973447448236, 'priceToOperatingCashFlowsRatio': 28.01949176340761, 'priceCashFlowRatio': 28.01949176340761, 'priceEarningsToGrowthRatio': 0.8880189396584599, 'priceSalesRatio': 12.792202881371068, 'dividendYield': 0.007683414853500535, 'enterpriseValueMultiple': 25.91494347644772, 'priceFairValue': 15.143644518719187}, {'symbol': 'MSFT', 'date': '2020-06-30', 'period': 'FY', 'currentRatio': 2.5157654542940118, 'quickRatio': 2.3307702945650672, 'cashRatio': 0.18774719955746094, 'daysOfSalesOutstanding': 81.69782889906652, 'daysOfInventoryOutstanding': 15.010959677069318, 'operatingCycle': 96.70878857613585, 'daysOfPayablesOutstanding': 99.25452493597813, 'cashConversionCycle': -2.54573635984228, 'grossProfitMargin': 0.6778100199279796, 'operatingProfitMargin': 0.37030381428521486, 'pretaxProfitMargin': 0.3708422193476209, 'netProfitMargin': 0.3096248645247002, 'effectiveTaxRate': 0.16507655177615205, 'returnOnAssets': 0.14696111326835065, 'returnOnEquity': 0.37429841763592103, 'returnOnCapitalEmployed': 0.231260998860267, 'netIncomePerEBT': 0.8349234482238479, 'ebtPerEbit': 1.001453954946279, 'ebitPerRevenue': 0.37030381428521486, 'debtRatio': 0.6073691302342098, 'debtEquityRatio': 1.5469214903976196, 'longTermDebtToCapitalization': 0.3624247519576617, 'totalDebtToCapitalization': 0.37505150500258844, 'interestCoverage': 20.439598610575068, 'cashFlowToDebtRatio': 0.854601538071495, 'companyEquityMultiplier': 2.5469214903976196, 'receivablesTurnover': 4.4676829839742584, 'payablesTurnover': 3.677414205905826, 'inventoryTurnover': 24.3155672823219, 'fixedAssetTurnover': 2.7032927566913654, 'assetTurnover': 0.4746424790332912, 'operatingCashFlowPerShare': 7.973061760840999, 'freeCashFlowPerShare': 5.944021024967149, 'cashPerShare': 17.94047306176084, 'payoutRatio': 0.34183961518484224, 'operatingCashFlowSalesRatio': 0.42425619690242283, 'freeCashFlowOperatingCashFlowRatio': 0.745512978986403, 'cashFlowCoverageRatios': 0.854601538071495, 'shortTermCoverageRatios': 16.184315817551347, 'capitalExpenditureCoverageRatio': -3.929473479696911, 'dividendPaidAndCapexCoverageRatio': -199.58881578947367, 'dividendPayoutRatio': 0.34183961518484224, 'priceBookValueRatio': 13.116031187271775, 'priceToBookRatio': 13.116031187271775, 'priceToSalesRatio': 10.84976368617977, 'priceEarningsRatio': 35.0416420943294, 'priceToFreeCashFlowsRatio': 34.30337696376619, 'priceToOperatingCashFlowsRatio': 25.573612749550886, 'priceCashFlowRatio': 25.573612749550886, 'priceEarningsToGrowthRatio': 2.5220111422820173, 'priceSalesRatio': 10.84976368617977, 'dividendYield': 0.009755239616472207, 'enterpriseValueMultiple': 23.5169599926779, 'priceFairValue': 13.116031187271775}, {'symbol': 'MSFT', 'date': '2019-06-30', 'period': 'FY', 'currentRatio': 2.5288389513108616, 'quickRatio': 2.3529674445404782, 'cashRatio': 0.16358398156150966, 'daysOfSalesOutstanding': 85.63257392147358, 'daysOfInventoryOutstanding': 17.548240503379166, 'operatingCycle': 103.18081442485274, 'daysOfPayablesOutstanding': 79.80494057329294, 'cashConversionCycle': 23.375873851559803, 'grossProfitMargin': 0.6590195720063889, 'operatingProfitMargin': 0.3413698020549415, 'pretaxProfitMargin': 0.34716273451840785, 'netProfitMargin': 0.3118171054409065, 'effectiveTaxRate': 0.10181285478850027, 'returnOnAssets': 0.13693658482111698, 'returnOnEquity': 0.3834652594547054, 'returnOnCapitalEmployed': 0.1978437476972957, 'netIncomePerEBT': 0.8981871452114997, 'ebtPerEbit': 1.0169696687539282, 'ebitPerRevenue': 0.3413698020549415, 'debtRatio': 0.6428970253632798, 'debtEquityRatio': 1.8003127137691781, 'longTermDebtToCapitalization': 0.4158579746546409, 'totalDebtToCapitalization': 0.4336897330322752, 'interestCoverage': 15.99367088607595, 'cashFlowToDebtRatio': 0.665913789143251, 'companyEquityMultiplier': 2.8003127137691783, 'receivablesTurnover': 4.262396694214876, 'payablesTurnover': 4.5736516734171815, 'inventoryTurnover': 20.799806107610276, 'fixedAssetTurnover': 2.869459139000365, 'assetTurnover': 0.43915674423149403, 'operatingCashFlowPerShare': 6.801120813241235, 'freeCashFlowPerShare': 4.986315652287241, 'cashPerShare': 17.440245014987617, 'payoutRatio': 0.35196228338430174, 'operatingCashFlowSalesRatio': 0.41468337531686306, 'freeCashFlowOperatingCashFlowRatio': 0.7331608699817955, 'cashFlowCoverageRatios': 0.665913789143251, 'shortTermCoverageRatios': 9.460659898477157, 'capitalExpenditureCoverageRatio': -3.747576301615799, 'dividendPaidAndCapexCoverageRatio': -457.7631578947368, 'dividendPayoutRatio': 0.3519622833843017, 'priceBookValueRatio': 10.523850257063422, 'priceToBookRatio': 10.523850257063422, 'priceToSalesRatio': 8.557532773418465, 'priceEarningsRatio': 27.444077390553005, 'priceToFreeCashFlowsRatio': 28.14703598550183, 'priceToOperatingCashFlowsRatio': 20.636305390539427, 'priceCashFlowRatio': 20.636305390539427, 'priceEarningsToGrowthRatio': 0.1993404269921924, 'priceSalesRatio': 8.557532773418465, 'dividendYield': 0.012824708164737091, 'enterpriseValueMultiple': 19.70365848155746, 'priceFairValue': 10.523850257063422}, {'symbol': 'MSFT', 'date': '2018-06-30', 'period': 'FY', 'currentRatio': 2.900800164136233, 'quickRatio': 2.7398611681028586, 'cashRatio': 0.20424702503077555, 'daysOfSalesOutstanding': 87.58214026821311, 'daysOfInventoryOutstanding': 25.333872187312597, 'operatingCycle': 112.9160124555257, 'daysOfPayablesOutstanding': 82.00675305712721, 'cashConversionCycle': 30.90925939839849, 'grossProfitMargin': 0.652473722363175, 'operatingProfitMargin': 0.3176694454512505, 'pretaxProfitMargin': 0.33050018122508157, 'netProfitMargin': 0.1501540413193186, 'effectiveTaxRate': 0.5456763722103416, 'returnOnAssets': 0.06401826554580294, 'returnOnEquity': 0.20033124591987234, 'returnOnCapitalEmployed': 0.17497504491914553, 'netIncomePerEBT': 0.4543236277896584, 'ebtPerEbit': 1.0403902105083005, 'ebitPerRevenue': 0.3176694454512505, 'debtRatio': 0.6804379404129064, 'debtEquityRatio': 2.1292826228874007, 'longTermDebtToCapitalization': 0.48471294727399583, 'totalDebtToCapitalization': 0.4972344796567108, 'interestCoverage': 12.827661909989024, 'cashFlowToDebtRatio': 0.5364267553295521, 'companyEquityMultiplier': 3.1292826228874007, 'receivablesTurnover': 4.167516332464786, 'payablesTurnover': 4.45085296506905, 'inventoryTurnover': 14.407588279489106, 'fixedAssetTurnover': 3.053173241852487, 'assetTurnover': 0.4263505995796761, 'operatingCashFlowPerShare': 5.699220779220779, 'freeCashFlowPerShare': 4.188571428571429, 'cashPerShare': 17.37246753246753, 'payoutRatio': 0.7663387846237403, 'operatingCashFlowSalesRatio': 0.39764407393983325, 'freeCashFlowOperatingCashFlowRatio': 0.7349375626652083, 'cashFlowCoverageRatios': 0.5364267553295521, 'shortTermCoverageRatios': 10.976488244122061, 'capitalExpenditureCoverageRatio': -3.7726960110041263, 'dividendPaidAndCapexCoverageRatio': 41.12839737582006, 'dividendPayoutRatio': 0.7663387846237402, 'priceBookValueRatio': 9.808615063105975, 'priceToBookRatio': 9.808615063105975, 'priceToSalesRatio': 7.351839622961218, 'priceEarningsRatio': 48.961983029992155, 'priceToFreeCashFlowsRatio': 25.156549075716235, 'priceToOperatingCashFlowsRatio': 18.48849286277459, 'priceCashFlowRatio': 18.48849286277459, 'priceEarningsToGrowthRatio': -2.273827686477601, 'priceSalesRatio': 7.351839622961218, 'dividendYield': 0.015651710514958346, 'enterpriseValueMultiple': 17.813758809533436, 'priceFairValue': 9.808615063105975}, {'symbol': 'MSFT', 'date': '2017-06-30', 'period': 'FY', 'currentRatio': 2.4772730794861064, 'quickRatio': 2.367582562338246, 'cashRatio': 0.11875648953151394, 'daysOfSalesOutstanding': 80.31217342968316, 'daysOfInventoryOutstanding': 23.235311286885963, 'operatingCycle': 103.54748471656912, 'daysOfPayablesOutstanding': 78.72945915180526, 'cashConversionCycle': 24.818025564763857, 'grossProfitMargin': 0.6191106170094497, 'operatingProfitMargin': 0.24820455808782657, 'pretaxProfitMargin': 0.25735408560311285, 'netProfitMargin': 0.23573096164535853, 'effectiveTaxRate': 0.08402090803058447, 'returnOnAssets': 0.0879520171225206, 'returnOnEquity': 0.2928972014255325, 'returnOnCapitalEmployed': 0.12645064822523916, 'netIncomePerEBT': 0.9159790919694155, 'ebtPerEbit': 1.03686285048822, 'ebitPerRevenue': 0.24820455808782657, 'debtRatio': 0.6997171133952199, 'debtEquityRatio': 2.330193109926237, 'longTermDebtToCapitalization': 0.5123899587113635, 'totalDebtToCapitalization': 0.5435089666305143, 'interestCoverage': 10.047704770477047, 'cashFlowToDebtRatio': 0.45834976912546116, 'companyEquityMultiplier': 3.330193109926237, 'receivablesTurnover': 4.544765561843169, 'payablesTurnover': 4.636129905277402, 'inventoryTurnover': 15.708849151765245, 'fixedAssetTurnover': 3.789921631414848, 'assetTurnover': 0.3731033738997702, 'operatingCashFlowPerShare': 5.1003098373353986, 'freeCashFlowPerShare': 4.050864962561322, 'cashPerShare': 17.167699457784664, 'payoutRatio': 0.5586210149028485, 'operatingCashFlowSalesRatio': 0.4392106725958866, 'freeCashFlowOperatingCashFlowRatio': 0.7942389956210292, 'cashFlowCoverageRatios': 0.45834976912546116, 'shortTermCoverageRatios': 3.903468036755261, 'capitalExpenditureCoverageRatio': -4.860007380981671, 'dividendPaidAndCapexCoverageRatio': 10.631593110871906, 'dividendPayoutRatio': 0.5586210149028485, 'priceBookValueRatio': 7.815120686402188, 'priceToBookRatio': 7.815120686402188, 'priceToSalesRatio': 6.289803746207893, 'priceEarningsRatio': 26.68212822917374, 'priceToFreeCashFlowsRatio': 18.030717285085093, 'priceToOperatingCashFlowsRatio': 14.320698786832713, 'priceCashFlowRatio': 14.320698786832713, 'priceEarningsToGrowthRatio': 0.9123566426749729, 'priceSalesRatio': 6.289803746207893, 'dividendYield': 0.02093614909968324, 'enterpriseValueMultiple': 18.867282994272163, 'priceFairValue': 7.815120686402188}]\n"
     ]
    }
   ],
   "source": [
    "#!/usr/bin/env python\n",
    "\n",
    "try:\n",
    "    # For Python 3.0 and later\n",
    "    from urllib.request import urlopen\n",
    "except ImportError:\n",
    "    # Fall back to Python 2's urllib2\n",
    "    from urllib2 import urlopen\n",
    "\n",
    "import certifi\n",
    "import json\n",
    "\n",
    "def get_jsonparsed_data(url):\n",
    "    \"\"\"\n",
    "    Receive the content of ``url``, parse it as JSON and return the object.\n",
    "\n",
    "    Parameters\n",
    "    ----------\n",
    "    url : str\n",
    "\n",
    "    Returns\n",
    "    -------\n",
    "    dict\n",
    "    \"\"\"\n",
    "    response = urlopen(url, cafile=certifi.where())\n",
    "    data = response.read().decode(\"utf-8\")\n",
    "    return json.loads(data)\n",
    "                                                        #change Ticker.  #API Key\n",
    "url = (\"https://financialmodelingprep.com/api/v3/ratios/MSFT?apikey=4769726e37f4115e7a41de86cd85c8b5\")\n",
    "print(get_jsonparsed_data(url))\n",
    "# 0-5%,5-12%\n",
    "# returnOnEquity, debtRatio netProfitMargin (AAPL)\n",
    "#0.8786635853012749,0.7982666847799239,0.20913611278072236\n",
    "#0.8786635853012749,0.7982666847799239,0.20913611278072236"
   ]
  },
  {
   "cell_type": "code",
   "execution_count": null,
   "id": "649f64f4-bc39-496d-aa05-33b94f7450ea",
   "metadata": {},
   "outputs": [],
   "source": []
  }
 ],
 "metadata": {
  "kernelspec": {
   "display_name": "Python 3 (ipykernel)",
   "language": "python",
   "name": "python3"
  },
  "language_info": {
   "codemirror_mode": {
    "name": "ipython",
    "version": 3
   },
   "file_extension": ".py",
   "mimetype": "text/x-python",
   "name": "python",
   "nbconvert_exporter": "python",
   "pygments_lexer": "ipython3",
   "version": "3.8.12"
  }
 },
 "nbformat": 4,
 "nbformat_minor": 5
}
